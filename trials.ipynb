{
 "cells": [
  {
   "cell_type": "code",
   "execution_count": 1,
   "metadata": {},
   "outputs": [
    {
     "name": "stdout",
     "output_type": "stream",
     "text": [
      "Hello World!!\n"
     ]
    }
   ],
   "source": [
    "print(\"Hello World!!\")"
   ]
  },
  {
   "cell_type": "code",
   "execution_count": 5,
   "metadata": {},
   "outputs": [
    {
     "name": "stdout",
     "output_type": "stream",
     "text": [
      "Collecting torch\n",
      "  Obtaining dependency information for torch from https://files.pythonhosted.org/packages/e4/ae/2ad8820045b6631965750435f28583e80905b8273d57cf026163b51323ee/torch-2.1.2-cp311-cp311-win_amd64.whl.metadata\n",
      "  Downloading torch-2.1.2-cp311-cp311-win_amd64.whl.metadata (26 kB)\n",
      "Requirement already satisfied: filelock in c:\\users\\yash inani\\anaconda3\\lib\\site-packages (from torch) (3.9.0)\n",
      "Requirement already satisfied: typing-extensions in c:\\users\\yash inani\\anaconda3\\lib\\site-packages (from torch) (4.7.1)\n",
      "Requirement already satisfied: sympy in c:\\users\\yash inani\\anaconda3\\lib\\site-packages (from torch) (1.11.1)\n",
      "Requirement already satisfied: networkx in c:\\users\\yash inani\\anaconda3\\lib\\site-packages (from torch) (3.1)\n",
      "Requirement already satisfied: jinja2 in c:\\users\\yash inani\\anaconda3\\lib\\site-packages (from torch) (3.1.2)\n",
      "Requirement already satisfied: fsspec in c:\\users\\yash inani\\anaconda3\\lib\\site-packages (from torch) (2023.3.0)\n",
      "Requirement already satisfied: MarkupSafe>=2.0 in c:\\users\\yash inani\\anaconda3\\lib\\site-packages (from jinja2->torch) (2.1.1)\n",
      "Requirement already satisfied: mpmath>=0.19 in c:\\users\\yash inani\\anaconda3\\lib\\site-packages (from sympy->torch) (1.3.0)\n",
      "Downloading torch-2.1.2-cp311-cp311-win_amd64.whl (192.3 MB)\n",
      "   ---------------------------------------- 0.0/192.3 MB ? eta -:--:--\n",
      "   ---------------------------------------- 0.3/192.3 MB 5.2 MB/s eta 0:00:37\n",
      "   ---------------------------------------- 1.0/192.3 MB 11.0 MB/s eta 0:00:18\n",
      "    --------------------------------------- 2.5/192.3 MB 17.9 MB/s eta 0:00:11\n",
      "    --------------------------------------- 4.0/192.3 MB 21.4 MB/s eta 0:00:09\n",
      "   - -------------------------------------- 5.7/192.3 MB 24.1 MB/s eta 0:00:08\n",
      "   - -------------------------------------- 7.1/192.3 MB 25.1 MB/s eta 0:00:08\n",
      "   - -------------------------------------- 8.3/192.3 MB 25.2 MB/s eta 0:00:08\n",
      "   -- ------------------------------------- 10.2/192.3 MB 27.1 MB/s eta 0:00:07\n",
      "   -- ------------------------------------- 11.8/192.3 MB 32.8 MB/s eta 0:00:06\n",
      "   -- ------------------------------------- 13.4/192.3 MB 34.4 MB/s eta 0:00:06\n",
      "   -- ------------------------------------- 14.1/192.3 MB 29.7 MB/s eta 0:00:06\n",
      "   --- ------------------------------------ 15.3/192.3 MB 29.8 MB/s eta 0:00:06\n",
      "   --- ------------------------------------ 16.8/192.3 MB 31.2 MB/s eta 0:00:06\n",
      "   --- ------------------------------------ 18.4/192.3 MB 31.2 MB/s eta 0:00:06\n",
      "   ---- ----------------------------------- 19.7/192.3 MB 28.4 MB/s eta 0:00:07\n",
      "   ---- ----------------------------------- 21.6/192.3 MB 29.8 MB/s eta 0:00:06\n",
      "   ---- ----------------------------------- 23.4/192.3 MB 31.2 MB/s eta 0:00:06\n",
      "   ----- ---------------------------------- 25.6/192.3 MB 38.5 MB/s eta 0:00:05\n",
      "   ----- ---------------------------------- 27.0/192.3 MB 36.4 MB/s eta 0:00:05\n",
      "   ------ --------------------------------- 29.0/192.3 MB 40.9 MB/s eta 0:00:04\n",
      "   ------ --------------------------------- 30.6/192.3 MB 38.6 MB/s eta 0:00:05\n",
      "   ------ --------------------------------- 32.7/192.3 MB 40.9 MB/s eta 0:00:04\n",
      "   ------- -------------------------------- 34.2/192.3 MB 38.5 MB/s eta 0:00:05\n",
      "   ------- -------------------------------- 35.9/192.3 MB 38.5 MB/s eta 0:00:05\n",
      "   ------- -------------------------------- 38.3/192.3 MB 38.6 MB/s eta 0:00:04\n",
      "   -------- ------------------------------- 39.7/192.3 MB 36.4 MB/s eta 0:00:05\n",
      "   -------- ------------------------------- 41.8/192.3 MB 40.9 MB/s eta 0:00:04\n",
      "   --------- ------------------------------ 43.6/192.3 MB 40.9 MB/s eta 0:00:04\n",
      "   --------- ------------------------------ 44.8/192.3 MB 36.4 MB/s eta 0:00:05\n",
      "   --------- ------------------------------ 46.1/192.3 MB 38.5 MB/s eta 0:00:04\n",
      "   --------- ------------------------------ 46.1/192.3 MB 38.5 MB/s eta 0:00:04\n",
      "   ---------- ----------------------------- 49.2/192.3 MB 32.8 MB/s eta 0:00:05\n",
      "   ---------- ----------------------------- 51.2/192.3 MB 34.4 MB/s eta 0:00:05\n",
      "   ----------- ---------------------------- 53.5/192.3 MB 34.4 MB/s eta 0:00:05\n",
      "   ----------- ---------------------------- 55.2/192.3 MB 36.4 MB/s eta 0:00:04\n",
      "   ----------- ---------------------------- 57.2/192.3 MB 50.4 MB/s eta 0:00:03\n",
      "   ------------ --------------------------- 59.1/192.3 MB 40.9 MB/s eta 0:00:04\n",
      "   ------------ --------------------------- 60.7/192.3 MB 40.9 MB/s eta 0:00:04\n",
      "   ------------- -------------------------- 62.5/192.3 MB 40.9 MB/s eta 0:00:04\n",
      "   ------------- -------------------------- 64.5/192.3 MB 40.9 MB/s eta 0:00:04\n",
      "   ------------- -------------------------- 65.5/192.3 MB 38.5 MB/s eta 0:00:04\n",
      "   ------------- -------------------------- 67.3/192.3 MB 36.3 MB/s eta 0:00:04\n",
      "   -------------- ------------------------- 69.6/192.3 MB 40.9 MB/s eta 0:00:03\n",
      "   -------------- ------------------------- 71.0/192.3 MB 36.4 MB/s eta 0:00:04\n",
      "   --------------- ------------------------ 72.7/192.3 MB 34.4 MB/s eta 0:00:04\n",
      "   --------------- ------------------------ 75.0/192.3 MB 40.9 MB/s eta 0:00:03\n",
      "   --------------- ------------------------ 76.7/192.3 MB 40.9 MB/s eta 0:00:03\n",
      "   ---------------- ----------------------- 78.3/192.3 MB 38.6 MB/s eta 0:00:03\n",
      "   ---------------- ----------------------- 80.1/192.3 MB 38.5 MB/s eta 0:00:03\n",
      "   ---------------- ----------------------- 81.7/192.3 MB 38.5 MB/s eta 0:00:03\n",
      "   ----------------- ---------------------- 84.2/192.3 MB 40.9 MB/s eta 0:00:03\n",
      "   ----------------- ---------------------- 85.3/192.3 MB 38.6 MB/s eta 0:00:03\n",
      "   ----------------- ---------------------- 86.3/192.3 MB 36.4 MB/s eta 0:00:03\n",
      "   ------------------ --------------------- 86.8/192.3 MB 34.4 MB/s eta 0:00:04\n",
      "   ------------------ --------------------- 86.8/192.3 MB 34.4 MB/s eta 0:00:04\n",
      "   ------------------ --------------------- 90.9/192.3 MB 32.7 MB/s eta 0:00:04\n",
      "   ------------------- -------------------- 92.1/192.3 MB 32.7 MB/s eta 0:00:04\n",
      "   ------------------- -------------------- 93.8/192.3 MB 31.1 MB/s eta 0:00:04\n",
      "   ------------------- -------------------- 95.2/192.3 MB 31.2 MB/s eta 0:00:04\n",
      "   -------------------- ------------------- 96.4/192.3 MB 31.2 MB/s eta 0:00:04\n",
      "   -------------------- ------------------- 96.7/192.3 MB 28.5 MB/s eta 0:00:04\n",
      "   -------------------- ------------------- 97.9/192.3 MB 32.8 MB/s eta 0:00:03\n",
      "   -------------------- ------------------- 99.2/192.3 MB 28.5 MB/s eta 0:00:04\n",
      "   -------------------- ------------------ 100.5/192.3 MB 27.3 MB/s eta 0:00:04\n",
      "   -------------------- ------------------ 101.8/192.3 MB 27.3 MB/s eta 0:00:04\n",
      "   -------------------- ------------------ 103.1/192.3 MB 25.1 MB/s eta 0:00:04\n",
      "   --------------------- ----------------- 104.4/192.3 MB 25.2 MB/s eta 0:00:04\n",
      "   --------------------- ----------------- 105.6/192.3 MB 24.2 MB/s eta 0:00:04\n",
      "   --------------------- ----------------- 107.5/192.3 MB 28.5 MB/s eta 0:00:03\n",
      "   ---------------------- ---------------- 109.4/192.3 MB 31.2 MB/s eta 0:00:03\n",
      "   ---------------------- ---------------- 111.4/192.3 MB 32.7 MB/s eta 0:00:03\n",
      "   ----------------------- --------------- 113.4/192.3 MB 38.6 MB/s eta 0:00:03\n",
      "   ----------------------- --------------- 115.5/192.3 MB 38.5 MB/s eta 0:00:02\n",
      "   ----------------------- --------------- 117.2/192.3 MB 38.5 MB/s eta 0:00:02\n",
      "   ------------------------ -------------- 118.8/192.3 MB 38.6 MB/s eta 0:00:02\n",
      "   ------------------------ -------------- 119.6/192.3 MB 38.5 MB/s eta 0:00:02\n",
      "   ------------------------ -------------- 121.0/192.3 MB 34.4 MB/s eta 0:00:03\n",
      "   ------------------------ -------------- 122.8/192.3 MB 32.8 MB/s eta 0:00:03\n",
      "   ------------------------- ------------- 123.3/192.3 MB 29.7 MB/s eta 0:00:03\n",
      "   ------------------------- ------------- 125.0/192.3 MB 29.7 MB/s eta 0:00:03\n",
      "   ------------------------- ------------- 126.5/192.3 MB 29.7 MB/s eta 0:00:03\n",
      "   -------------------------- ------------ 128.3/192.3 MB 29.7 MB/s eta 0:00:03\n",
      "   -------------------------- ------------ 130.0/192.3 MB 32.8 MB/s eta 0:00:02\n",
      "   -------------------------- ------------ 131.1/192.3 MB 31.2 MB/s eta 0:00:02\n",
      "   -------------------------- ------------ 132.8/192.3 MB 31.2 MB/s eta 0:00:02\n",
      "   --------------------------- ----------- 133.5/192.3 MB 32.8 MB/s eta 0:00:02\n",
      "   --------------------------- ----------- 134.4/192.3 MB 28.5 MB/s eta 0:00:03\n",
      "   --------------------------- ----------- 135.7/192.3 MB 28.4 MB/s eta 0:00:02\n",
      "   --------------------------- ----------- 137.2/192.3 MB 27.3 MB/s eta 0:00:03\n",
      "   ---------------------------- ---------- 138.7/192.3 MB 28.5 MB/s eta 0:00:02\n",
      "   ---------------------------- ---------- 139.7/192.3 MB 26.2 MB/s eta 0:00:03\n",
      "   ---------------------------- ---------- 140.8/192.3 MB 27.3 MB/s eta 0:00:02\n",
      "   ---------------------------- ---------- 142.0/192.3 MB 25.1 MB/s eta 0:00:03\n",
      "   ----------------------------- --------- 143.0/192.3 MB 24.2 MB/s eta 0:00:03\n",
      "   ----------------------------- --------- 144.5/192.3 MB 27.3 MB/s eta 0:00:02\n",
      "   ----------------------------- --------- 146.1/192.3 MB 28.5 MB/s eta 0:00:02\n",
      "   ----------------------------- --------- 147.5/192.3 MB 27.3 MB/s eta 0:00:02\n",
      "   ------------------------------ -------- 149.0/192.3 MB 27.3 MB/s eta 0:00:02\n",
      "   ------------------------------ -------- 150.2/192.3 MB 28.4 MB/s eta 0:00:02\n",
      "   ------------------------------ -------- 151.7/192.3 MB 29.7 MB/s eta 0:00:02\n",
      "   ------------------------------- ------- 153.5/192.3 MB 32.7 MB/s eta 0:00:02\n",
      "   ------------------------------- ------- 155.0/192.3 MB 32.8 MB/s eta 0:00:02\n",
      "   ------------------------------- ------- 156.6/192.3 MB 34.4 MB/s eta 0:00:02\n",
      "   -------------------------------- ------ 158.2/192.3 MB 32.8 MB/s eta 0:00:02\n",
      "   -------------------------------- ------ 159.6/192.3 MB 34.4 MB/s eta 0:00:01\n",
      "   -------------------------------- ------ 161.0/192.3 MB 32.7 MB/s eta 0:00:01\n",
      "   -------------------------------- ------ 162.2/192.3 MB 32.7 MB/s eta 0:00:01\n",
      "   --------------------------------- ----- 163.7/192.3 MB 31.2 MB/s eta 0:00:01\n",
      "   --------------------------------- ----- 165.2/192.3 MB 34.4 MB/s eta 0:00:01\n",
      "   --------------------------------- ----- 166.4/192.3 MB 29.8 MB/s eta 0:00:01\n",
      "   ---------------------------------- ---- 167.8/192.3 MB 29.8 MB/s eta 0:00:01\n",
      "   ---------------------------------- ---- 169.1/192.3 MB 31.1 MB/s eta 0:00:01\n",
      "   ---------------------------------- ---- 170.6/192.3 MB 31.2 MB/s eta 0:00:01\n",
      "   ---------------------------------- ---- 172.6/192.3 MB 32.7 MB/s eta 0:00:01\n",
      "   ----------------------------------- --- 173.6/192.3 MB 31.2 MB/s eta 0:00:01\n",
      "   ----------------------------------- --- 175.0/192.3 MB 29.7 MB/s eta 0:00:01\n",
      "   ----------------------------------- --- 176.6/192.3 MB 31.1 MB/s eta 0:00:01\n",
      "   ------------------------------------ -- 177.5/192.3 MB 28.5 MB/s eta 0:00:01\n",
      "   ------------------------------------ -- 178.6/192.3 MB 28.5 MB/s eta 0:00:01\n",
      "   ------------------------------------ -- 179.9/192.3 MB 29.7 MB/s eta 0:00:01\n",
      "   ------------------------------------ -- 181.5/192.3 MB 28.5 MB/s eta 0:00:01\n",
      "   ------------------------------------- - 183.2/192.3 MB 29.7 MB/s eta 0:00:01\n",
      "   ------------------------------------- - 184.3/192.3 MB 28.4 MB/s eta 0:00:01\n",
      "   ------------------------------------- - 185.4/192.3 MB 27.3 MB/s eta 0:00:01\n",
      "   ------------------------------------- - 186.8/192.3 MB 27.3 MB/s eta 0:00:01\n",
      "   --------------------------------------  188.5/192.3 MB 32.7 MB/s eta 0:00:01\n",
      "   --------------------------------------  189.9/192.3 MB 31.2 MB/s eta 0:00:01\n",
      "   --------------------------------------  191.7/192.3 MB 31.2 MB/s eta 0:00:01\n",
      "   --------------------------------------  192.3/192.3 MB 31.2 MB/s eta 0:00:01\n",
      "   --------------------------------------  192.3/192.3 MB 31.2 MB/s eta 0:00:01\n",
      "   --------------------------------------  192.3/192.3 MB 31.2 MB/s eta 0:00:01\n",
      "   --------------------------------------  192.3/192.3 MB 31.2 MB/s eta 0:00:01\n",
      "   --------------------------------------  192.3/192.3 MB 31.2 MB/s eta 0:00:01\n",
      "   --------------------------------------  192.3/192.3 MB 31.2 MB/s eta 0:00:01\n",
      "   --------------------------------------  192.3/192.3 MB 31.2 MB/s eta 0:00:01\n",
      "   --------------------------------------  192.3/192.3 MB 31.2 MB/s eta 0:00:01\n",
      "   --------------------------------------- 192.3/192.3 MB 11.3 MB/s eta 0:00:00\n",
      "Installing collected packages: torch\n",
      "Successfully installed torch-2.1.2\n",
      "Note: you may need to restart the kernel to use updated packages.\n"
     ]
    },
    {
     "name": "stderr",
     "output_type": "stream",
     "text": [
      "  WARNING: The scripts convert-caffe2-to-onnx.exe, convert-onnx-to-caffe2.exe and torchrun.exe are installed in 'c:\\Users\\Yash Inani\\anaconda3\\Scripts' which is not on PATH.\n",
      "  Consider adding this directory to PATH or, if you prefer to suppress this warning, use --no-warn-script-location.\n"
     ]
    }
   ],
   "source": [
    "pip install torch"
   ]
  },
  {
   "cell_type": "code",
   "execution_count": 1,
   "metadata": {},
   "outputs": [],
   "source": [
    "import torch"
   ]
  },
  {
   "cell_type": "code",
   "execution_count": 5,
   "metadata": {},
   "outputs": [
    {
     "name": "stdout",
     "output_type": "stream",
     "text": [
      "tensor([0.0000, 0.0200, 0.0400, 0.0600, 0.0800, 0.1000, 0.1200, 0.1400, 0.1600,\n",
      "        0.1800, 0.2000, 0.2200, 0.2400, 0.2600, 0.2800, 0.3000, 0.3200, 0.3400,\n",
      "        0.3600, 0.3800, 0.4000, 0.4200, 0.4400, 0.4600, 0.4800, 0.5000, 0.5200,\n",
      "        0.5400, 0.5600, 0.5800, 0.6000, 0.6200, 0.6400, 0.6600, 0.6800, 0.7000,\n",
      "        0.7200, 0.7400, 0.7600, 0.7800, 0.8000, 0.8200, 0.8400, 0.8600, 0.8800,\n",
      "        0.9000, 0.9200, 0.9400, 0.9600, 0.9800])\n"
     ]
    },
    {
     "data": {
      "text/plain": [
       "50"
      ]
     },
     "execution_count": 5,
     "metadata": {},
     "output_type": "execute_result"
    }
   ],
   "source": [
    "x = torch.arange(0, 1, 0.02)\n",
    "print(x)\n",
    "len(x)"
   ]
  },
  {
   "cell_type": "code",
   "execution_count": 3,
   "metadata": {},
   "outputs": [],
   "source": [
    "import numpy as np"
   ]
  },
  {
   "cell_type": "code",
   "execution_count": 8,
   "metadata": {},
   "outputs": [
    {
     "name": "stdout",
     "output_type": "stream",
     "text": [
      "Requirement already satisfied: matplotlib in c:\\users\\yash inani\\anaconda3\\lib\\site-packages (3.7.1)Note: you may need to restart the kernel to use updated packages.\n",
      "\n",
      "Requirement already satisfied: contourpy>=1.0.1 in c:\\users\\yash inani\\anaconda3\\lib\\site-packages (from matplotlib) (1.0.5)\n",
      "Requirement already satisfied: cycler>=0.10 in c:\\users\\yash inani\\anaconda3\\lib\\site-packages (from matplotlib) (0.11.0)\n",
      "Requirement already satisfied: fonttools>=4.22.0 in c:\\users\\yash inani\\anaconda3\\lib\\site-packages (from matplotlib) (4.25.0)\n",
      "Requirement already satisfied: kiwisolver>=1.0.1 in c:\\users\\yash inani\\anaconda3\\lib\\site-packages (from matplotlib) (1.4.4)\n",
      "Requirement already satisfied: numpy>=1.20 in c:\\users\\yash inani\\anaconda3\\lib\\site-packages (from matplotlib) (1.24.3)\n",
      "Requirement already satisfied: packaging>=20.0 in c:\\users\\yash inani\\anaconda3\\lib\\site-packages (from matplotlib) (23.0)\n",
      "Requirement already satisfied: pillow>=6.2.0 in c:\\users\\yash inani\\anaconda3\\lib\\site-packages (from matplotlib) (9.4.0)\n",
      "Requirement already satisfied: pyparsing>=2.3.1 in c:\\users\\yash inani\\anaconda3\\lib\\site-packages (from matplotlib) (3.0.9)\n",
      "Requirement already satisfied: python-dateutil>=2.7 in c:\\users\\yash inani\\anaconda3\\lib\\site-packages (from matplotlib) (2.8.2)\n",
      "Requirement already satisfied: six>=1.5 in c:\\users\\yash inani\\anaconda3\\lib\\site-packages (from python-dateutil>=2.7->matplotlib) (1.16.0)\n"
     ]
    }
   ],
   "source": [
    "pip install matplotlib"
   ]
  },
  {
   "cell_type": "code",
   "execution_count": 5,
   "metadata": {},
   "outputs": [],
   "source": [
    "import matplotlib.pyplot as plt"
   ]
  },
  {
   "cell_type": "code",
   "execution_count": 6,
   "metadata": {},
   "outputs": [
    {
     "data": {
      "text/plain": [
       "<matplotlib.legend.Legend at 0x2b273741a50>"
      ]
     },
     "execution_count": 6,
     "metadata": {},
     "output_type": "execute_result"
    },
    {
     "data": {
      "image/png": "[encoded data removed]",
      "text/plain": [
       "<Figure size 500x270 with 1 Axes>"
      ]
     },
     "metadata": {},
     "output_type": "display_data"
    }
   ],
   "source": [
    "x = np.linspace(0, 2, 100)  # Sample data.\n",
    "\n",
    "plt.figure(figsize=(5, 2.7), layout='constrained')\n",
    "plt.plot(x, x, label='linear')  # Plot some data on the (implicit) axes.\n",
    "plt.plot(x, x**2, label='quadratic')  # etc.\n",
    "plt.plot(x, x**3, label='cubic')\n",
    "plt.xlabel('x label')\n",
    "plt.ylabel('y label')\n",
    "plt.title(\"Simple Plot\")\n",
    "plt.legend()"
   ]
  },
  {
   "cell_type": "code",
   "execution_count": 29,
   "metadata": {},
   "outputs": [
    {
     "name": "stdout",
     "output_type": "stream",
     "text": [
      "[20 44 20 45  6 34 34 23  3 49 36 42 18 11  8 37 11  3  5 48  9  3 33 32\n",
      " 31  0 26 37  0 17 23 25 24  6 23 19 34 10 42 11 47  9 39  3 24 38 42 10\n",
      " 35 47]\n"
     ]
    },
    {
     "data": {
      "text/plain": [
       "<matplotlib.legend.Legend at 0x2b279f85a50>"
      ]
     },
     "execution_count": 29,
     "metadata": {},
     "output_type": "execute_result"
    },
    {
     "data": {
      "image/png": "[encoded data removed]",
      "text/plain": [
       "<Figure size 640x480 with 1 Axes>"
      ]
     },
     "metadata": {},
     "output_type": "display_data"
    }
   ],
   "source": [
    "np.random.seed(19680801)  # seed the random number generator.\n",
    "data = {'a': np.arange(50),\n",
    "        'c': np.random.randint(0, 50, 50),\n",
    "        'd': np.random.randn(50)}\n",
    "data['b'] = data['a'] + 10 * np.random.randn(50)\n",
    "data['d'] = np.abs(data['d']) * 100\n",
    "\n",
    "print(data['c'])\n",
    "_, ax = plt.subplots()\n",
    "ax.scatter('a', 'b', c='c',  s='d', data=data)\n",
    "ax.set_xlabel('entry a')\n",
    "ax.set_ylabel('entry b')\n",
    "ax.legend()"
   ]
  },
  {
   "cell_type": "code",
   "execution_count": 33,
   "metadata": {},
   "outputs": [],
   "source": [
    "import torch\n",
    "from torch import nn"
   ]
  },
  {
   "cell_type": "code",
   "execution_count": 35,
   "metadata": {},
   "outputs": [],
   "source": [
    "class LinearRegression(nn.Module):\n",
    "    def __init__(self):\n",
    "        super().__init__()\n",
    "        self.weight = nn.Parameter(torch.randn(1, requires_grad=True))\n",
    "        self.bias = nn.Parameter(torch.randn(1, requires_grad=True))\n",
    "    def forward(self,x):\n",
    "        return x * self.weight + self.bias    "
   ]
  },
  {
   "cell_type": "code",
   "execution_count": 93,
   "metadata": {},
   "outputs": [],
   "source": [
    "class LinearRegression1(nn.Module):\n",
    "    def __init__(self):\n",
    "        super().__init__()\n",
    "        self.linear_layer = nn.Linear(in_features=1, out_features=1)\n",
    "    def forward(self,x):\n",
    "        return self.linear_layer(x)    "
   ]
  },
  {
   "cell_type": "code",
   "execution_count": 94,
   "metadata": {},
   "outputs": [],
   "source": [
    "X = torch.arange(0, 1, 0.02)\n",
    "y = 0.7 * X + 0.3\n",
    "\n",
    "X_train = X[:40]\n",
    "y_train = y[:40]\n",
    "X_test = X[40:]\n",
    "y_test = y[40:]"
   ]
  },
  {
   "cell_type": "code",
   "execution_count": 95,
   "metadata": {},
   "outputs": [],
   "source": [
    "model_0 = LinearRegression1()"
   ]
  },
  {
   "cell_type": "code",
   "execution_count": 96,
   "metadata": {},
   "outputs": [],
   "source": [
    "loss_fn = nn.L1Loss()\n",
    "optimizer = torch.optim.Adam(model_0.parameters(), lr = 0.01)"
   ]
  },
  {
   "cell_type": "code",
   "execution_count": 98,
   "metadata": {},
   "outputs": [
    {
     "name": "stdout",
     "output_type": "stream",
     "text": [
      "Epoch:  0 Training Loss:  0.6455863118171692\n",
      "Epoch:  0 Testing Loss:  0.6316863298416138\n",
      "Epoch:  100 Training Loss:  0.05157192796468735\n",
      "Epoch:  100 Testing Loss:  0.05047649145126343\n",
      "Epoch:  200 Training Loss:  0.003960557281970978\n",
      "Epoch:  200 Testing Loss:  0.0026177926920354366\n",
      "Epoch:  300 Training Loss:  0.0009232595330104232\n",
      "Epoch:  300 Testing Loss:  0.001063407165929675\n",
      "Epoch:  400 Training Loss:  0.00042396559729240835\n",
      "Epoch:  400 Testing Loss:  0.0013776272535324097\n",
      "Epoch:  500 Training Loss:  0.00031473487615585327\n",
      "Epoch:  500 Testing Loss:  0.00045491306809708476\n",
      "Epoch:  600 Training Loss:  0.0008995570242404938\n",
      "Epoch:  600 Testing Loss:  0.0010187842417508364\n",
      "Epoch:  700 Training Loss:  0.00032089947490021586\n",
      "Epoch:  700 Testing Loss:  0.0010937750339508057\n",
      "Epoch:  800 Training Loss:  0.0009457655251026154\n",
      "Epoch:  800 Testing Loss:  0.0007943235104903579\n",
      "Epoch:  900 Training Loss:  0.0019379525911062956\n",
      "Epoch:  900 Testing Loss:  0.0012285023694857955\n"
     ]
    }
   ],
   "source": [
    "epoch = 1000\n",
    "training_loss = []\n",
    "testing_loss = []\n",
    "for i in range(epoch):\n",
    "    model_0.train()\n",
    "    y_pred = model_0.forward(X_train.unsqueeze(1))\n",
    "    loss = loss_fn(y_pred , y_train.unsqueeze(1))\n",
    "    optimizer.zero_grad()\n",
    "    loss.backward()\n",
    "    optimizer.step()\n",
    "    model_0.eval()\n",
    "    training_loss.append(loss.item())\n",
    "    train_loss = loss_fn(model_0(X_train.unsqueeze(1)), y_train.unsqueeze(1)).item()\n",
    "    testing_loss.append(train_loss)\n",
    "    if i%100 == 0:\n",
    "        print(\"Epoch: \", i, \"Training Loss: \", loss.item())\n",
    "        print(\"Epoch: \", i, \"Testing Loss: \", train_loss)"
   ]
  },
  {
   "cell_type": "code",
   "execution_count": 99,
   "metadata": {},
   "outputs": [
    {
     "data": {
      "text/plain": [
       "[Parameter containing:\n",
       " tensor([[0.7003]], requires_grad=True),\n",
       " Parameter containing:\n",
       " tensor([0.3003], requires_grad=True)]"
      ]
     },
     "execution_count": 99,
     "metadata": {},
     "output_type": "execute_result"
    }
   ],
   "source": [
    "list(model_0.parameters())"
   ]
  },
  {
   "cell_type": "code",
   "execution_count": 49,
   "metadata": {},
   "outputs": [],
   "source": [
    "import matplotlib.pyplot as plt"
   ]
  },
  {
   "cell_type": "code",
   "execution_count": 58,
   "metadata": {},
   "outputs": [],
   "source": [
    "epoch_count = [i for i in range(epoch)]"
   ]
  },
  {
   "cell_type": "code",
   "execution_count": 100,
   "metadata": {},
   "outputs": [
    {
     "data": {
      "text/plain": [
       "<matplotlib.legend.Legend at 0x2b20e7cda50>"
      ]
     },
     "execution_count": 100,
     "metadata": {},
     "output_type": "execute_result"
    },
    {
     "data": {
      "image/png": "[encoded data removed]",
      "text/plain": [
       "<Figure size 640x480 with 1 Axes>"
      ]
     },
     "metadata": {},
     "output_type": "display_data"
    }
   ],
   "source": [
    "plt.plot(epoch_count,training_loss, label = \"Training Loss\")\n",
    "plt.plot(epoch_count,testing_loss, label = \"Testing Loss\")\n",
    "plt.legend()"
   ]
  },
  {
   "cell_type": "code",
   "execution_count": 60,
   "metadata": {},
   "outputs": [],
   "source": [
    "y_pred = model_0.forward(X_test)\n"
   ]
  },
  {
   "cell_type": "code",
   "execution_count": 63,
   "metadata": {},
   "outputs": [
    {
     "data": {
      "text/plain": [
       "<matplotlib.legend.Legend at 0x2b20bcf2650>"
      ]
     },
     "execution_count": 63,
     "metadata": {},
     "output_type": "execute_result"
    },
    {
     "data": {
      "image/png": "[encoded data removed]",
      "text/plain": [
       "<Figure size 640x480 with 1 Axes>"
      ]
     },
     "metadata": {},
     "output_type": "display_data"
    }
   ],
   "source": [
    "plt.scatter(X_test, y_test, label = \"Testing Data\")\n",
    "plt.scatter(X_test, y_pred.detach().numpy(), label = \"Predicted Data\")\n",
    "plt.legend()"
   ]
  },
  {
   "cell_type": "code",
   "execution_count": 102,
   "metadata": {},
   "outputs": [
    {
     "name": "stdout",
     "output_type": "stream",
     "text": [
      "Requirement already satisfied: scikit-learn in c:\\users\\yash inani\\anaconda3\\lib\\site-packages (1.3.0)Note: you may need to restart the kernel to use updated packages.\n",
      "\n",
      "Requirement already satisfied: numpy>=1.17.3 in c:\\users\\yash inani\\anaconda3\\lib\\site-packages (from scikit-learn) (1.24.3)\n",
      "Requirement already satisfied: scipy>=1.5.0 in c:\\users\\yash inani\\anaconda3\\lib\\site-packages (from scikit-learn) (1.10.1)\n",
      "Requirement already satisfied: joblib>=1.1.1 in c:\\users\\yash inani\\anaconda3\\lib\\site-packages (from scikit-learn) (1.2.0)\n",
      "Requirement already satisfied: threadpoolctl>=2.0.0 in c:\\users\\yash inani\\anaconda3\\lib\\site-packages (from scikit-learn) (2.2.0)\n"
     ]
    }
   ],
   "source": [
    "pip install scikit-learn"
   ]
  },
  {
   "cell_type": "code",
   "execution_count": 104,
   "metadata": {},
   "outputs": [],
   "source": [
    "from sklearn.datasets import load_iris, make_classification"
   ]
  },
  {
   "cell_type": "code",
   "execution_count": 163,
   "metadata": {},
   "outputs": [],
   "source": [
    "x, y = make_classification(n_samples=1000, n_classes=2, n_features=5, random_state=42)"
   ]
  },
  {
   "cell_type": "code",
   "execution_count": 164,
   "metadata": {},
   "outputs": [
    {
     "name": "stdout",
     "output_type": "stream",
     "text": [
      "(1000, 5)\n",
      "[[-0.43964281  0.54254734 -0.82241993  0.40136622 -0.85484   ]\n",
      " [ 2.82223116 -2.48085944 -1.14769139 -2.10113103  3.04027792]\n",
      " [ 1.61838572 -1.36947785 -2.08411294 -1.17965857  1.61360231]\n",
      " [ 1.65904812 -0.61520205  1.11268837 -0.83509772 -0.27220548]\n",
      " [ 1.84982402 -1.67945551 -0.92669831 -1.40250885  2.12312866]]\n"
     ]
    }
   ],
   "source": [
    "print(x.shape)\n",
    "print(x[:5])"
   ]
  },
  {
   "cell_type": "code",
   "execution_count": 108,
   "metadata": {},
   "outputs": [
    {
     "name": "stdout",
     "output_type": "stream",
     "text": [
      "Requirement already satisfied: pandas in c:\\users\\yash inani\\anaconda3\\lib\\site-packages (1.5.3)\n",
      "Requirement already satisfied: python-dateutil>=2.8.1 in c:\\users\\yash inani\\anaconda3\\lib\\site-packages (from pandas) (2.8.2)\n",
      "Requirement already satisfied: pytz>=2020.1 in c:\\users\\yash inani\\anaconda3\\lib\\site-packages (from pandas) (2022.7)\n",
      "Requirement already satisfied: numpy>=1.21.0 in c:\\users\\yash inani\\anaconda3\\lib\\site-packages (from pandas) (1.24.3)\n",
      "Requirement already satisfied: six>=1.5 in c:\\users\\yash inani\\anaconda3\\lib\\site-packages (from python-dateutil>=2.8.1->pandas) (1.16.0)\n",
      "Note: you may need to restart the kernel to use updated packages.\n"
     ]
    }
   ],
   "source": [
    "pip install pandas"
   ]
  },
  {
   "cell_type": "code",
   "execution_count": 110,
   "metadata": {},
   "outputs": [
    {
     "data": {
      "text/plain": [
       "(1000, 5)"
      ]
     },
     "execution_count": 110,
     "metadata": {},
     "output_type": "execute_result"
    }
   ],
   "source": [
    "x.shape"
   ]
  },
  {
   "cell_type": "code",
   "execution_count": 165,
   "metadata": {},
   "outputs": [],
   "source": [
    "new_x = torch.from_numpy(x).type(torch.float32)\n",
    "new_y = torch.from_numpy(y).type(torch.float32)"
   ]
  },
  {
   "cell_type": "code",
   "execution_count": 116,
   "metadata": {},
   "outputs": [],
   "source": [
    "import pandas as pd"
   ]
  },
  {
   "cell_type": "code",
   "execution_count": 166,
   "metadata": {},
   "outputs": [],
   "source": [
    "new_data = pd.DataFrame({'first': new_x[:,0], 'second': new_x[:,1], 'third': new_x[:,2], 'fourth': new_x[:,3], 'fifth': new_x[:,4], 'target': new_y})"
   ]
  },
  {
   "cell_type": "code",
   "execution_count": 180,
   "metadata": {},
   "outputs": [
    {
     "data": {
      "text/html": [
       "<div>\n",
       "<style scoped>\n",
       "    .dataframe tbody tr th:only-of-type {\n",
       "        vertical-align: middle;\n",
       "    }\n",
       "\n",
       "    .dataframe tbody tr th {\n",
       "        vertical-align: top;\n",
       "    }\n",
       "\n",
       "    .dataframe thead th {\n",
       "        text-align: right;\n",
       "    }\n",
       "</style>\n",
       "<table border=\"1\" class=\"dataframe\">\n",
       "  <thead>\n",
       "    <tr style=\"text-align: right;\">\n",
       "      <th></th>\n",
       "      <th>first</th>\n",
       "      <th>second</th>\n",
       "      <th>third</th>\n",
       "      <th>fourth</th>\n",
       "      <th>fifth</th>\n",
       "      <th>target</th>\n",
       "    </tr>\n",
       "  </thead>\n",
       "  <tbody>\n",
       "    <tr>\n",
       "      <th>0</th>\n",
       "      <td>-0.439643</td>\n",
       "      <td>0.542547</td>\n",
       "      <td>-0.822420</td>\n",
       "      <td>0.401366</td>\n",
       "      <td>-0.854840</td>\n",
       "      <td>0.0</td>\n",
       "    </tr>\n",
       "    <tr>\n",
       "      <th>1</th>\n",
       "      <td>2.822231</td>\n",
       "      <td>-2.480860</td>\n",
       "      <td>-1.147691</td>\n",
       "      <td>-2.101131</td>\n",
       "      <td>3.040278</td>\n",
       "      <td>1.0</td>\n",
       "    </tr>\n",
       "    <tr>\n",
       "      <th>2</th>\n",
       "      <td>1.618386</td>\n",
       "      <td>-1.369478</td>\n",
       "      <td>-2.084113</td>\n",
       "      <td>-1.179659</td>\n",
       "      <td>1.613602</td>\n",
       "      <td>1.0</td>\n",
       "    </tr>\n",
       "    <tr>\n",
       "      <th>3</th>\n",
       "      <td>1.659048</td>\n",
       "      <td>-0.615202</td>\n",
       "      <td>1.112688</td>\n",
       "      <td>-0.835098</td>\n",
       "      <td>-0.272205</td>\n",
       "      <td>1.0</td>\n",
       "    </tr>\n",
       "    <tr>\n",
       "      <th>4</th>\n",
       "      <td>1.849824</td>\n",
       "      <td>-1.679456</td>\n",
       "      <td>-0.926698</td>\n",
       "      <td>-1.402509</td>\n",
       "      <td>2.123129</td>\n",
       "      <td>1.0</td>\n",
       "    </tr>\n",
       "    <tr>\n",
       "      <th>5</th>\n",
       "      <td>0.077111</td>\n",
       "      <td>0.237160</td>\n",
       "      <td>0.584413</td>\n",
       "      <td>0.087275</td>\n",
       "      <td>-0.661753</td>\n",
       "      <td>0.0</td>\n",
       "    </tr>\n",
       "    <tr>\n",
       "      <th>6</th>\n",
       "      <td>-0.388754</td>\n",
       "      <td>0.563365</td>\n",
       "      <td>0.014273</td>\n",
       "      <td>0.394581</td>\n",
       "      <td>-0.960128</td>\n",
       "      <td>0.0</td>\n",
       "    </tr>\n",
       "    <tr>\n",
       "      <th>7</th>\n",
       "      <td>2.040958</td>\n",
       "      <td>-0.508362</td>\n",
       "      <td>-1.776235</td>\n",
       "      <td>-0.909452</td>\n",
       "      <td>-0.941722</td>\n",
       "      <td>1.0</td>\n",
       "    </tr>\n",
       "    <tr>\n",
       "      <th>8</th>\n",
       "      <td>1.052441</td>\n",
       "      <td>-0.048267</td>\n",
       "      <td>-0.917503</td>\n",
       "      <td>-0.367493</td>\n",
       "      <td>-1.007995</td>\n",
       "      <td>1.0</td>\n",
       "    </tr>\n",
       "    <tr>\n",
       "      <th>9</th>\n",
       "      <td>0.763016</td>\n",
       "      <td>-0.158370</td>\n",
       "      <td>0.886887</td>\n",
       "      <td>-0.324968</td>\n",
       "      <td>-0.429449</td>\n",
       "      <td>0.0</td>\n",
       "    </tr>\n",
       "    <tr>\n",
       "      <th>10</th>\n",
       "      <td>1.223627</td>\n",
       "      <td>-1.070968</td>\n",
       "      <td>2.693034</td>\n",
       "      <td>-0.908775</td>\n",
       "      <td>1.306803</td>\n",
       "      <td>1.0</td>\n",
       "    </tr>\n",
       "    <tr>\n",
       "      <th>11</th>\n",
       "      <td>-1.437580</td>\n",
       "      <td>1.137972</td>\n",
       "      <td>-1.180813</td>\n",
       "      <td>1.010618</td>\n",
       "      <td>-1.241575</td>\n",
       "      <td>0.0</td>\n",
       "    </tr>\n",
       "    <tr>\n",
       "      <th>12</th>\n",
       "      <td>-1.802291</td>\n",
       "      <td>1.599489</td>\n",
       "      <td>0.845158</td>\n",
       "      <td>1.349004</td>\n",
       "      <td>-1.978662</td>\n",
       "      <td>1.0</td>\n",
       "    </tr>\n",
       "    <tr>\n",
       "      <th>13</th>\n",
       "      <td>0.969990</td>\n",
       "      <td>-0.262416</td>\n",
       "      <td>-0.808266</td>\n",
       "      <td>-0.442102</td>\n",
       "      <td>-0.396736</td>\n",
       "      <td>1.0</td>\n",
       "    </tr>\n",
       "    <tr>\n",
       "      <th>14</th>\n",
       "      <td>-2.271847</td>\n",
       "      <td>1.470974</td>\n",
       "      <td>-1.293273</td>\n",
       "      <td>1.441772</td>\n",
       "      <td>-1.162441</td>\n",
       "      <td>0.0</td>\n",
       "    </tr>\n",
       "    <tr>\n",
       "      <th>15</th>\n",
       "      <td>1.246700</td>\n",
       "      <td>-1.127925</td>\n",
       "      <td>-0.212209</td>\n",
       "      <td>-0.943353</td>\n",
       "      <td>1.421236</td>\n",
       "      <td>1.0</td>\n",
       "    </tr>\n",
       "    <tr>\n",
       "      <th>16</th>\n",
       "      <td>1.349370</td>\n",
       "      <td>-1.171285</td>\n",
       "      <td>0.393797</td>\n",
       "      <td>-0.997542</td>\n",
       "      <td>1.417308</td>\n",
       "      <td>1.0</td>\n",
       "    </tr>\n",
       "    <tr>\n",
       "      <th>17</th>\n",
       "      <td>-2.142140</td>\n",
       "      <td>1.528581</td>\n",
       "      <td>-0.869663</td>\n",
       "      <td>1.426636</td>\n",
       "      <td>-1.441905</td>\n",
       "      <td>0.0</td>\n",
       "    </tr>\n",
       "    <tr>\n",
       "      <th>18</th>\n",
       "      <td>-0.876195</td>\n",
       "      <td>0.734667</td>\n",
       "      <td>-1.189412</td>\n",
       "      <td>0.635456</td>\n",
       "      <td>-0.857072</td>\n",
       "      <td>1.0</td>\n",
       "    </tr>\n",
       "    <tr>\n",
       "      <th>19</th>\n",
       "      <td>-0.995021</td>\n",
       "      <td>1.194306</td>\n",
       "      <td>0.650450</td>\n",
       "      <td>0.892443</td>\n",
       "      <td>-1.852615</td>\n",
       "      <td>1.0</td>\n",
       "    </tr>\n",
       "  </tbody>\n",
       "</table>\n",
       "</div>"
      ],
      "text/plain": [
       "       first    second     third    fourth     fifth  target\n",
       "0  -0.439643  0.542547 -0.822420  0.401366 -0.854840     0.0\n",
       "1   2.822231 -2.480860 -1.147691 -2.101131  3.040278     1.0\n",
       "2   1.618386 -1.369478 -2.084113 -1.179659  1.613602     1.0\n",
       "3   1.659048 -0.615202  1.112688 -0.835098 -0.272205     1.0\n",
       "4   1.849824 -1.679456 -0.926698 -1.402509  2.123129     1.0\n",
       "5   0.077111  0.237160  0.584413  0.087275 -0.661753     0.0\n",
       "6  -0.388754  0.563365  0.014273  0.394581 -0.960128     0.0\n",
       "7   2.040958 -0.508362 -1.776235 -0.909452 -0.941722     1.0\n",
       "8   1.052441 -0.048267 -0.917503 -0.367493 -1.007995     1.0\n",
       "9   0.763016 -0.158370  0.886887 -0.324968 -0.429449     0.0\n",
       "10  1.223627 -1.070968  2.693034 -0.908775  1.306803     1.0\n",
       "11 -1.437580  1.137972 -1.180813  1.010618 -1.241575     0.0\n",
       "12 -1.802291  1.599489  0.845158  1.349004 -1.978662     1.0\n",
       "13  0.969990 -0.262416 -0.808266 -0.442102 -0.396736     1.0\n",
       "14 -2.271847  1.470974 -1.293273  1.441772 -1.162441     0.0\n",
       "15  1.246700 -1.127925 -0.212209 -0.943353  1.421236     1.0\n",
       "16  1.349370 -1.171285  0.393797 -0.997542  1.417308     1.0\n",
       "17 -2.142140  1.528581 -0.869663  1.426636 -1.441905     0.0\n",
       "18 -0.876195  0.734667 -1.189412  0.635456 -0.857072     1.0\n",
       "19 -0.995021  1.194306  0.650450  0.892443 -1.852615     1.0"
      ]
     },
     "execution_count": 180,
     "metadata": {},
     "output_type": "execute_result"
    }
   ],
   "source": [
    "new_data.head(20)"
   ]
  },
  {
   "cell_type": "code",
   "execution_count": 168,
   "metadata": {},
   "outputs": [],
   "source": [
    "import matplotlib.pyplot as plt"
   ]
  },
  {
   "cell_type": "code",
   "execution_count": 251,
   "metadata": {},
   "outputs": [],
   "source": [
    "class Classification(nn.Module):\n",
    "    def __init__(self):\n",
    "        super().__init__()\n",
    "        self.linear_layer = nn.Linear(in_features=5, out_features=10)\n",
    "        self.activation = nn.ReLU()\n",
    "        self.linear_layer1 = nn.Linear(in_features=10, out_features=5)\n",
    "        self.linear_layer2 = nn.Linear(in_features=5, out_features=1)\n",
    "    def forward(self,x):\n",
    "        new_x = self.linear_layer(x)\n",
    "        new_x = self.activation(new_x)\n",
    "        new_x = self.linear_layer1(new_x)\n",
    "        new_x = self.activation(new_x)\n",
    "        new_x = self.linear_layer2(new_x)\n",
    "        return new_x"
   ]
  },
  {
   "cell_type": "code",
   "execution_count": 126,
   "metadata": {},
   "outputs": [],
   "source": [
    "from sklearn.model_selection import train_test_split"
   ]
  },
  {
   "cell_type": "code",
   "execution_count": 170,
   "metadata": {},
   "outputs": [],
   "source": [
    "X_train,X_test, y_train, y_test = train_test_split(new_x, new_y, test_size = 0.2, random_state = 42)"
   ]
  },
  {
   "cell_type": "code",
   "execution_count": 262,
   "metadata": {},
   "outputs": [],
   "source": [
    "epochs = 1000\n",
    "model = Classification()"
   ]
  },
  {
   "cell_type": "code",
   "execution_count": 253,
   "metadata": {},
   "outputs": [
    {
     "name": "stdout",
     "output_type": "stream",
     "text": [
      "Classification(\n",
      "  (linear_layer): Linear(in_features=5, out_features=10, bias=True)\n",
      "  (activation): ReLU()\n",
      "  (linear_layer1): Linear(in_features=10, out_features=5, bias=True)\n",
      "  (linear_layer2): Linear(in_features=5, out_features=1, bias=True)\n",
      ")\n"
     ]
    }
   ],
   "source": [
    "print(model)"
   ]
  },
  {
   "cell_type": "code",
   "execution_count": 266,
   "metadata": {},
   "outputs": [],
   "source": [
    "loss_fu = nn.BCEWithLogitsLoss()\n",
    "optimizer = torch.optim.SGD(model.parameters(), lr=0.1)"
   ]
  },
  {
   "cell_type": "code",
   "execution_count": 254,
   "metadata": {},
   "outputs": [
    {
     "data": {
      "text/plain": [
       "0.0    500\n",
       "1.0    500\n",
       "Name: target, dtype: int64"
      ]
     },
     "execution_count": 254,
     "metadata": {},
     "output_type": "execute_result"
    }
   ],
   "source": [
    "new_data['target'].value_counts()"
   ]
  },
  {
   "cell_type": "code",
   "execution_count": 255,
   "metadata": {},
   "outputs": [
    {
     "data": {
      "text/plain": [
       "torch.Size([800, 5])"
      ]
     },
     "execution_count": 255,
     "metadata": {},
     "output_type": "execute_result"
    }
   ],
   "source": [
    "X_train.shape"
   ]
  },
  {
   "cell_type": "code",
   "execution_count": 256,
   "metadata": {},
   "outputs": [
    {
     "data": {
      "text/plain": [
       "torch.Size([800])"
      ]
     },
     "execution_count": 256,
     "metadata": {},
     "output_type": "execute_result"
    }
   ],
   "source": [
    "y_train.shape"
   ]
  },
  {
   "cell_type": "code",
   "execution_count": 257,
   "metadata": {},
   "outputs": [],
   "source": [
    "def accuracy(y_pred, y_true):\n",
    "    return torch.eq(y_pred,y_true).sum() / len(y_true) * 100"
   ]
  },
  {
   "cell_type": "code",
   "execution_count": 267,
   "metadata": {},
   "outputs": [
    {
     "name": "stdout",
     "output_type": "stream",
     "text": [
      "Epoch:  0 Training Loss:  0.19007736444473267 Training Accuracy:  85.625\n",
      "Epoch:  0 Testing Loss:  0.48500001430511475 Testing Accuracy:  51.5\n",
      "Epoch:  100 Training Loss:  0.19160129129886627 Training Accuracy:  86.125\n",
      "Epoch:  100 Testing Loss:  0.48500001430511475 Testing Accuracy:  51.5\n",
      "Epoch:  200 Training Loss:  0.194600909948349 Training Accuracy:  86.375\n",
      "Epoch:  200 Testing Loss:  0.48500001430511475 Testing Accuracy:  51.5\n",
      "Epoch:  300 Training Loss:  0.17883874475955963 Training Accuracy:  86.0\n",
      "Epoch:  300 Testing Loss:  0.48500001430511475 Testing Accuracy:  51.5\n",
      "Epoch:  400 Training Loss:  0.1996450424194336 Training Accuracy:  86.0\n",
      "Epoch:  400 Testing Loss:  0.48500001430511475 Testing Accuracy:  51.5\n",
      "Epoch:  500 Training Loss:  0.1786290556192398 Training Accuracy:  86.125\n",
      "Epoch:  500 Testing Loss:  0.48500001430511475 Testing Accuracy:  51.5\n",
      "Epoch:  600 Training Loss:  0.17854024469852448 Training Accuracy:  49.625\n",
      "Epoch:  600 Testing Loss:  0.10499999672174454 Testing Accuracy:  89.5\n",
      "Epoch:  700 Training Loss:  0.18480022251605988 Training Accuracy:  86.25\n",
      "Epoch:  700 Testing Loss:  0.48500001430511475 Testing Accuracy:  51.5\n",
      "Epoch:  800 Training Loss:  0.18200688064098358 Training Accuracy:  86.125\n",
      "Epoch:  800 Testing Loss:  0.48500001430511475 Testing Accuracy:  51.5\n",
      "Epoch:  900 Training Loss:  0.17734552919864655 Training Accuracy:  73.125\n",
      "Epoch:  900 Testing Loss:  0.48500001430511475 Testing Accuracy:  51.5\n"
     ]
    }
   ],
   "source": [
    "for i in range(epochs):\n",
    "    model.train()\n",
    "    y_logits = model(X_train).squeeze()\n",
    "    y_pred = torch.round(torch.sigmoid(y_logits))\n",
    "    loss = loss_fn(y_logits, y_train)\n",
    "    optimizer.zero_grad()\n",
    "    loss.backward()\n",
    "    optimizer.step()\n",
    "    model.eval()\n",
    "    if i%100 == 0:  \n",
    "        accuracy_score = accuracy(y_pred=y_pred, y_true=y_train)\n",
    "        y_logits = model(X_test).squeeze() \n",
    "        y_pred = torch.round(torch.sigmoid(y_logits))\n",
    "        test_loss = loss_fn(y_pred, y_test)\n",
    "        accuracy_score_test = accuracy(y_pred=y_pred, y_true=y_test)\n",
    "        print(\"Epoch: \", i, \"Training Loss: \", loss.item(), \"Training Accuracy: \", accuracy_score.item())\n",
    "        print(\"Epoch: \", i, \"Testing Loss: \", test_loss.item(),\"Testing Accuracy: \", accuracy_score_test.item())"
   ]
  },
  {
   "cell_type": "code",
   "execution_count": 242,
   "metadata": {},
   "outputs": [
    {
     "name": "stdout",
     "output_type": "stream",
     "text": [
      "Epoch: 0 | Loss: 0.59505, Accuracy: 37.62% | Test Loss: 0.55038, Test Accuracy: 40.50%\n",
      "Epoch: 100 | Loss: 0.22289, Accuracy: 77.00% | Test Loss: 0.21083, Test Accuracy: 53.00%\n",
      "Epoch: 200 | Loss: 0.22200, Accuracy: 80.50% | Test Loss: 0.19887, Test Accuracy: 52.50%\n",
      "Epoch: 300 | Loss: 0.21730, Accuracy: 80.12% | Test Loss: 0.18516, Test Accuracy: 51.50%\n",
      "Epoch: 400 | Loss: 0.20824, Accuracy: 79.88% | Test Loss: 0.18415, Test Accuracy: 51.50%\n",
      "Epoch: 500 | Loss: 0.21497, Accuracy: 82.75% | Test Loss: 0.18036, Test Accuracy: 51.50%\n",
      "Epoch: 600 | Loss: 0.18564, Accuracy: 73.50% | Test Loss: 0.17442, Test Accuracy: 51.50%\n",
      "Epoch: 700 | Loss: 0.20477, Accuracy: 81.38% | Test Loss: 0.17582, Test Accuracy: 51.50%\n",
      "Epoch: 800 | Loss: 0.20674, Accuracy: 83.00% | Test Loss: 0.17408, Test Accuracy: 51.50%\n",
      "Epoch: 900 | Loss: 0.20658, Accuracy: 83.50% | Test Loss: 0.17211, Test Accuracy: 51.50%\n"
     ]
    }
   ],
   "source": [
    "for epoch in range(epochs):\n",
    "    # 1. Forward pass\n",
    "    y_logits = model(X_train).squeeze()\n",
    "    y_pred = torch.round(torch.sigmoid(y_logits)) # logits -> prediction probabilities -> prediction labels\n",
    "    \n",
    "    # 2. Calculate loss and accuracy\n",
    "    loss = loss_fn(y_logits, y_train) # BCEWithLogitsLoss calculates loss using logits\n",
    "    acc = accuracy(y_true=y_train, \n",
    "                      y_pred=y_pred)\n",
    "    \n",
    "    # 3. Optimizer zero grad\n",
    "    optimizer.zero_grad()\n",
    "\n",
    "    # 4. Loss backward\n",
    "    loss.backward()\n",
    "\n",
    "    # 5. Optimizer step\n",
    "    optimizer.step()\n",
    "\n",
    "    ### Testing\n",
    "    model.eval()\n",
    "    with torch.inference_mode():\n",
    "      # 1. Forward pass\n",
    "      test_logits = model(X_test).squeeze()\n",
    "      test_pred = torch.round(torch.sigmoid(test_logits)) # logits -> prediction probabilities -> prediction labels\n",
    "      # 2. Calcuate loss and accuracy\n",
    "      test_loss = loss_fn(test_logits, y_test)\n",
    "      test_acc = accuracy(y_true=y_test,\n",
    "                             y_pred=test_pred)\n",
    "\n",
    "    # Print out what's happening\n",
    "    if epoch % 100 == 0:\n",
    "        print(f\"Epoch: {epoch} | Loss: {loss:.5f}, Accuracy: {acc:.2f}% | Test Loss: {test_loss:.5f}, Test Accuracy: {test_acc:.2f}%\")"
   ]
  },
  {
   "cell_type": "code",
   "execution_count": 268,
   "metadata": {},
   "outputs": [],
   "source": [
    "from sklearn.datasets import make_blobs"
   ]
  },
  {
   "cell_type": "code",
   "execution_count": 269,
   "metadata": {},
   "outputs": [],
   "source": [
    "x, y = make_blobs(n_samples=1000, n_features=2, centers=4, random_state=42)"
   ]
  },
  {
   "cell_type": "code",
   "execution_count": 270,
   "metadata": {},
   "outputs": [
    {
     "data": {
      "text/plain": [
       "<matplotlib.collections.PathCollection at 0x2b214d85a10>"
      ]
     },
     "execution_count": 270,
     "metadata": {},
     "output_type": "execute_result"
    },
    {
     "data": {
      "image/png": "[encoded data removed]",
      "text/plain": [
       "<Figure size 640x480 with 1 Axes>"
      ]
     },
     "metadata": {},
     "output_type": "display_data"
    }
   ],
   "source": [
    "plt.scatter(x[:,0], x[:,1], c=y)"
   ]
  },
  {
   "cell_type": "code",
   "execution_count": 280,
   "metadata": {},
   "outputs": [],
   "source": [
    "class Blobs(nn.Module):\n",
    "    def __init__(self):\n",
    "        super().__init__()\n",
    "        self.linear_layer = nn.Sequential(\n",
    "            nn.Linear(in_features=2, out_features=10),\n",
    "            nn.ReLU(),\n",
    "            nn.Linear(in_features=10, out_features=7),\n",
    "            nn.ReLU(),\n",
    "            nn.Linear(in_features=7, out_features=4),\n",
    "        )\n",
    "    \n",
    "    def forward(self,x):\n",
    "        return self.linear_layer(x)"
   ]
  },
  {
   "cell_type": "code",
   "execution_count": 281,
   "metadata": {},
   "outputs": [],
   "source": [
    "model_blob = Blobs()"
   ]
  },
  {
   "cell_type": "code",
   "execution_count": 282,
   "metadata": {},
   "outputs": [
    {
     "data": {
      "text/plain": [
       "Blobs(\n",
       "  (linear_layer): Sequential(\n",
       "    (0): Linear(in_features=2, out_features=10, bias=True)\n",
       "    (1): ReLU()\n",
       "    (2): Linear(in_features=10, out_features=7, bias=True)\n",
       "    (3): ReLU()\n",
       "    (4): Linear(in_features=7, out_features=4, bias=True)\n",
       "  )\n",
       ")"
      ]
     },
     "execution_count": 282,
     "metadata": {},
     "output_type": "execute_result"
    }
   ],
   "source": [
    "model_blob"
   ]
  },
  {
   "cell_type": "code",
   "execution_count": 283,
   "metadata": {},
   "outputs": [],
   "source": [
    "loss_fn = nn.CrossEntropyLoss()\n",
    "optimizer = torch.optim.SGD(model_blob.parameters(), lr=0.1)"
   ]
  },
  {
   "cell_type": "code",
   "execution_count": 284,
   "metadata": {},
   "outputs": [],
   "source": [
    "x_blob = torch.from_numpy(x).type(torch.float32)\n",
    "y_blob = torch.from_numpy(y).type(torch.long)"
   ]
  },
  {
   "cell_type": "code",
   "execution_count": 285,
   "metadata": {},
   "outputs": [],
   "source": [
    "x_train, x_test, y_train, y_test = train_test_split(x_blob, y_blob, test_size=0.2, random_state=42)"
   ]
  },
  {
   "cell_type": "code",
   "execution_count": 289,
   "metadata": {},
   "outputs": [
    {
     "name": "stdout",
     "output_type": "stream",
     "text": [
      "Epoch:  0 Training Loss:  0.0018507029162719846 Training Accuracy:  99.875\n",
      "Epoch:  0 Testing Loss:  0.0008528815815225244 Testing Accuracy:  100.0\n",
      "Epoch:  100 Training Loss:  0.001782668405212462 Training Accuracy:  99.875\n",
      "Epoch:  100 Testing Loss:  0.000804131559561938 Testing Accuracy:  100.0\n",
      "Epoch:  200 Training Loss:  0.0017244426999241114 Training Accuracy:  99.875\n",
      "Epoch:  200 Testing Loss:  0.0007630400941707194 Testing Accuracy:  100.0\n",
      "Epoch:  300 Training Loss:  0.0016737605910748243 Training Accuracy:  100.0\n",
      "Epoch:  300 Testing Loss:  0.0007277127588167787 Testing Accuracy:  100.0\n",
      "Epoch:  400 Training Loss:  0.0016289608320221305 Training Accuracy:  100.0\n",
      "Epoch:  400 Testing Loss:  0.0006968369125388563 Testing Accuracy:  100.0\n",
      "Epoch:  500 Training Loss:  0.0015888966154307127 Training Accuracy:  100.0\n",
      "Epoch:  500 Testing Loss:  0.0006694391486234963 Testing Accuracy:  100.0\n",
      "Epoch:  600 Training Loss:  0.0015526908682659268 Training Accuracy:  100.0\n",
      "Epoch:  600 Testing Loss:  0.0006449578213505447 Testing Accuracy:  100.0\n",
      "Epoch:  700 Training Loss:  0.001519700395874679 Training Accuracy:  100.0\n",
      "Epoch:  700 Testing Loss:  0.0006226869882084429 Testing Accuracy:  100.0\n",
      "Epoch:  800 Training Loss:  0.0014894009800627828 Training Accuracy:  100.0\n",
      "Epoch:  800 Testing Loss:  0.0006023422465659678 Testing Accuracy:  100.0\n",
      "Epoch:  900 Training Loss:  0.001461387611925602 Training Accuracy:  100.0\n",
      "Epoch:  900 Testing Loss:  0.0005836214986629784 Testing Accuracy:  100.0\n"
     ]
    }
   ],
   "source": [
    "epochs = 1000\n",
    "\n",
    "for epoch in range(epochs):\n",
    "    model_blob.train()\n",
    "    y_logits = model_blob(x_train)\n",
    "    y_pred = torch.softmax(y_logits, dim=1).argmax(dim=1)\n",
    "    loss = loss_fn(y_logits, y_train)\n",
    "    accuracy_score = accuracy(y_pred=y_pred, y_true=y_train)\n",
    "    optimizer.zero_grad()\n",
    "    loss.backward()\n",
    "    optimizer.step()\n",
    "    model_blob.eval()\n",
    "    if epoch % 100 == 0:\n",
    "        accuracy_score = accuracy(y_pred=y_pred, y_true=y_train)\n",
    "        y_logits = model_blob(x_test)\n",
    "        y_pred = torch.softmax(y_logits, dim=1).argmax(dim=1)\n",
    "        test_loss = loss_fn(y_logits, y_test)\n",
    "        accuracy_score_test = accuracy(y_pred=y_pred, y_true=y_test)\n",
    "        print(\"Epoch: \", epoch, \"Training Loss: \", loss.item(), \"Training Accuracy: \", accuracy_score.item())\n",
    "        print(\"Epoch: \", epoch, \"Testing Loss: \", test_loss.item(),\"Testing Accuracy: \", accuracy_score_test.item())"
   ]
  },
  {
   "cell_type": "code",
   "execution_count": 290,
   "metadata": {},
   "outputs": [],
   "source": [
    "def plot_decision_boundary(model: torch.nn.Module, X: torch.Tensor, y: torch.Tensor):\n",
    "    \"\"\"Plots decision boundaries of model predicting on X in comparison to y.\n",
    "\n",
    "    Source - https://madewithml.com/courses/foundations/neural-networks/ (with modifications)\n",
    "    \"\"\"\n",
    "    # Put everything to CPU (works better with NumPy + Matplotlib)\n",
    "    model.to(\"cpu\")\n",
    "    X, y = X.to(\"cpu\"), y.to(\"cpu\")\n",
    "\n",
    "    # Setup prediction boundaries and grid\n",
    "    x_min, x_max = X[:, 0].min() - 0.1, X[:, 0].max() + 0.1\n",
    "    y_min, y_max = X[:, 1].min() - 0.1, X[:, 1].max() + 0.1\n",
    "    xx, yy = np.meshgrid(np.linspace(x_min, x_max, 101), np.linspace(y_min, y_max, 101))\n",
    "\n",
    "    # Make features\n",
    "    X_to_pred_on = torch.from_numpy(np.column_stack((xx.ravel(), yy.ravel()))).float()\n",
    "\n",
    "    # Make predictions\n",
    "    model.eval()\n",
    "    with torch.inference_mode():\n",
    "        y_logits = model(X_to_pred_on)\n",
    "\n",
    "    # Test for multi-class or binary and adjust logits to prediction labels\n",
    "    if len(torch.unique(y)) > 2:\n",
    "        y_pred = torch.softmax(y_logits, dim=1).argmax(dim=1)  # mutli-class\n",
    "    else:\n",
    "        y_pred = torch.round(torch.sigmoid(y_logits))  # binary\n",
    "\n",
    "    # Reshape preds and plot\n",
    "    y_pred = y_pred.reshape(xx.shape).detach().numpy()\n",
    "    plt.contourf(xx, yy, y_pred, cmap=plt.cm.RdYlBu, alpha=0.7)\n",
    "    plt.scatter(X[:, 0], X[:, 1], c=y, s=40, cmap=plt.cm.RdYlBu)\n",
    "    plt.xlim(xx.min(), xx.max())\n",
    "    plt.ylim(yy.min(), yy.max())"
   ]
  },
  {
   "cell_type": "code",
   "execution_count": 294,
   "metadata": {},
   "outputs": [
    {
     "data": {
      "image/png": "[encoded data removed]",
      "text/plain": [
       "<Figure size 640x480 with 1 Axes>"
      ]
     },
     "metadata": {},
     "output_type": "display_data"
    }
   ],
   "source": [
    "plot_decision_boundary(model=model_blob, X=x_test ,y=y_test)"
   ]
  },
  {
   "cell_type": "code",
   "execution_count": null,
   "metadata": {},
   "outputs": [],
   "source": []
  }
 ],
 "metadata": {
  "kernelspec": {
   "display_name": "base",
   "language": "python",
   "name": "python3"
  },
  "language_info": {
   "codemirror_mode": {
    "name": "ipython",
    "version": 3
   },
   "file_extension": ".py",
   "mimetype": "text/x-python",
   "name": "python",
   "nbconvert_exporter": "python",
   "pygments_lexer": "ipython3",
   "version": "3.11.4"
  }
 },
 "nbformat": 4,
 "nbformat_minor": 2
}
